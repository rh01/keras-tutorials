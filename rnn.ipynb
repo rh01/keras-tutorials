{
 "cells": [
  {
   "cell_type": "code",
   "execution_count": 1,
   "metadata": {
    "collapsed": false
   },
   "outputs": [
    {
     "name": "stderr",
     "output_type": "stream",
     "text": [
      "Using TensorFlow backend.\n"
     ]
    }
   ],
   "source": [
    "import numpy as np\n",
    "np.random.seed(1337)\n",
    "from keras.models import Sequential\n",
    "from keras.datasets import mnist\n",
    "from keras.layers import Dense, Activation,SimpleRNN\n",
    "from keras.optimizers import Adam\n",
    "from keras.utils import np_utils"
   ]
  },
  {
   "cell_type": "code",
   "execution_count": 2,
   "metadata": {
    "collapsed": true
   },
   "outputs": [],
   "source": [
    "# global varible\n",
    "TIME_STEPS = 28 # same as the length of image\n",
    "INPUT_SIZE = 28 # same as the width of image\n",
    "BATCH_SIZE = 50\n",
    "BATCH_INDEX = 0\n",
    "\n",
    "OUTPUT_SIZE = 10\n",
    "CELL_SIZE = 50\n",
    "LR = 0.001\n"
   ]
  },
  {
   "cell_type": "code",
   "execution_count": 54,
   "metadata": {
    "collapsed": false
   },
   "outputs": [
    {
     "ename": "TypeError",
     "evalue": "to_categorical() got an unexpected keyword argument 'nu'",
     "output_type": "error",
     "traceback": [
      "\u001b[1;31m---------------------------------------------------------------------------\u001b[0m",
      "\u001b[1;31mTypeError\u001b[0m                                 Traceback (most recent call last)",
      "\u001b[1;32m<ipython-input-54-92a6e6ecad05>\u001b[0m in \u001b[0;36m<module>\u001b[1;34m()\u001b[0m\n\u001b[0;32m     14\u001b[0m \u001b[1;31m# X_test = np.reshape(X_test, (len(X_test), 28, 28))\u001b[0m\u001b[1;33m\u001b[0m\u001b[1;33m\u001b[0m\u001b[0m\n\u001b[0;32m     15\u001b[0m \u001b[1;33m\u001b[0m\u001b[0m\n\u001b[1;32m---> 16\u001b[1;33m \u001b[0my_train\u001b[0m \u001b[1;33m=\u001b[0m \u001b[0mnp_utils\u001b[0m\u001b[1;33m.\u001b[0m\u001b[0mto_categorical\u001b[0m\u001b[1;33m(\u001b[0m\u001b[0my_train\u001b[0m\u001b[1;33m,\u001b[0m \u001b[0mnu\u001b[0m\u001b[1;33m=\u001b[0m\u001b[1;36m10\u001b[0m\u001b[1;33m)\u001b[0m\u001b[1;33m\u001b[0m\u001b[0m\n\u001b[0m\u001b[0;32m     17\u001b[0m \u001b[0my_test\u001b[0m \u001b[1;33m=\u001b[0m \u001b[0mnp_utils\u001b[0m\u001b[1;33m.\u001b[0m\u001b[0mto_categorical\u001b[0m\u001b[1;33m(\u001b[0m\u001b[0my_test\u001b[0m\u001b[1;33m,\u001b[0m \u001b[0mnb_classes\u001b[0m\u001b[1;33m=\u001b[0m\u001b[1;36m10\u001b[0m\u001b[1;33m)\u001b[0m\u001b[1;33m\u001b[0m\u001b[0m\n\u001b[0;32m     18\u001b[0m \u001b[1;33m\u001b[0m\u001b[0m\n",
      "\u001b[1;31mTypeError\u001b[0m: to_categorical() got an unexpected keyword argument 'nu'"
     ]
    }
   ],
   "source": [
    "(X_train, y_train), (X_test, y_test) = mnist.load_data()\n",
    "\n",
    "# data prep\n",
    "X_train = X_train.astype('float64')\n",
    "X_test = X_test.astype('float64')\n",
    "\n",
    "X_train = X_train.reshape(-1,  28, 28)/255\n",
    "X_test = X_test.reshape(-1,  28, 28)/255\n",
    "\n",
    "# X_train = X_train/255\n",
    "# X_test = X_test/255\n",
    "\n",
    "# X_train = np.reshape(X_train, (len(X_train), 28, 28))\n",
    "# X_test = np.reshape(X_test, (len(X_test), 28, 28))\n",
    "\n",
    "y_train = np_utils.to_categorical(y_train, nu=10)\n",
    "y_test = np_utils.to_categorical(y_test, nb_classes=10)\n",
    "\n",
    "# or in this way\n",
    "# X_train = X_train.reshape(-1, 1, 28, 28)\n",
    "# X_test = X_test.reshape(-1, 1, 28, 28)\n"
   ]
  },
  {
   "cell_type": "code",
   "execution_count": 47,
   "metadata": {
    "collapsed": false
   },
   "outputs": [],
   "source": [
    "# build model\n",
    "model = Sequential()\n",
    "# RNN cell\n",
    "CHANNAL_SIZE = 1\n",
    "model.add(SimpleRNN(output_dim=CELL_SIZE,\n",
    "                    batch_input_shape=(BATCH_SIZE, TIME_STEPS, INPUT_SIZE)                    \n",
    "    ))\n",
    "\n",
    "model.add(Dense(OUTPUT_SIZE))\n",
    "model.add(Activation('softmax'))\n"
   ]
  },
  {
   "cell_type": "code",
   "execution_count": 48,
   "metadata": {
    "collapsed": false
   },
   "outputs": [
    {
     "name": "stdout",
     "output_type": "stream",
     "text": [
      "____________________________________________________________________________________________________\n",
      "Layer (type)                     Output Shape          Param #     Connected to                     \n",
      "====================================================================================================\n",
      "simplernn_15 (SimpleRNN)         (50, 50)              3950        simplernn_input_15[0][0]         \n",
      "____________________________________________________________________________________________________\n",
      "dense_7 (Dense)                  (50, 10)              510         simplernn_15[0][0]               \n",
      "____________________________________________________________________________________________________\n",
      "activation_7 (Activation)        (50, 10)              0           dense_7[0][0]                    \n",
      "====================================================================================================\n",
      "Total params: 4460\n",
      "____________________________________________________________________________________________________\n"
     ]
    }
   ],
   "source": [
    "# optimizer\n",
    "adam = Adam(LR)\n",
    "model.compile(loss='categorical_crossentropy', optimizer=adam)\n",
    "model.summary()"
   ]
  },
  {
   "cell_type": "code",
   "execution_count": 61,
   "metadata": {
    "collapsed": false
   },
   "outputs": [
    {
     "name": "stdout",
     "output_type": "stream",
     "text": [
      "('test cost: ', 2.3797140121459961, 'test accuracy: ', 0.079499997198581696)\n",
      "('test cost: ', 0.6432763934135437, 'test accuracy: ', 0.79589998722076416)\n",
      "('test cost: ', 0.4729151725769043, 'test accuracy: ', 0.85619997978210449)\n",
      "('test cost: ', 0.41718417406082153, 'test accuracy: ', 0.88120001554489136)\n",
      "('test cost: ', 0.32865732908248901, 'test accuracy: ', 0.90530002117156982)\n",
      "('test cost: ', 0.28531950712203979, 'test accuracy: ', 0.91710001230239868)\n",
      "('test cost: ', 0.2876286506652832, 'test accuracy: ', 0.91829997301101685)\n",
      "('test cost: ', 0.27014335989952087, 'test accuracy: ', 0.92059999704360962)\n",
      "('test cost: ', 0.25492581725120544, 'test accuracy: ', 0.92779999971389771)\n"
     ]
    }
   ],
   "source": [
    "\"\"\"\n",
    "To know more or get code samples, please visit my website:\n",
    "https://morvanzhou.github.io/tutorials/\n",
    "Or search: 莫烦Python\n",
    "Thank you for supporting!\n",
    "\"\"\"\n",
    "\n",
    "# please note, all tutorial code are running under python3.5.\n",
    "# If you use the version like python2.7, please modify the code accordingly\n",
    "\n",
    "# 8 - RNN Classifier example\n",
    "\n",
    "# to try tensorflow, un-comment following two lines\n",
    "# import os\n",
    "# os.environ['KERAS_BACKEND']='tensorflow'\n",
    "\n",
    "import numpy as np\n",
    "# np.random.seed(1337)  # for reproducibility\n",
    "\n",
    "# from keras.datasets import mnist\n",
    "# from keras.utils import np_utils\n",
    "# from keras.models import Sequential\n",
    "# from keras.layers import SimpleRNN, Activation, Dense\n",
    "# from keras.optimizers import Adam\n",
    "\n",
    "# TIME_STEPS = 28     # same as the height of the image\n",
    "# INPUT_SIZE = 28     # same as the width of the image\n",
    "# BATCH_SIZE = 50\n",
    "# BATCH_INDEX = 0\n",
    "# OUTPUT_SIZE = 10\n",
    "# CELL_SIZE = 50\n",
    "# LR = 0.001\n",
    "\n",
    "\n",
    "# download the mnist to the path '~/.keras/datasets/' if it is the first time to be called\n",
    "# X shape (60,000 28x28), y shape (10,000, )\n",
    "(X_train, y_train), (X_test, y_test) = mnist.load_data()\n",
    "\n",
    "# # data pre-processing\n",
    "\n",
    "X_train = X_train.reshape(-1, 28, 28) / 255.      # normalize\n",
    "X_test = X_test.reshape(-1, 28, 28) / 255.        # normalize\n",
    "y_train = np_utils.to_categorical(y_train, nb_classes=10)\n",
    "y_test = np_utils.to_categorical(y_test, nb_classes=10)\n",
    "X_train = X_train.astype('float64')\n",
    "X_test = X_test.astype('float64')\n",
    "# build RNN model\n",
    "model = Sequential()\n",
    "\n",
    "# RNN cell\n",
    "model.add(SimpleRNN(\n",
    "    # for batch_input_shape, if using tensorflow as the backend, we have to put None for the batch_size.\n",
    "    # Otherwise, model.evaluate() will get error.\n",
    "    batch_input_shape=(None, TIME_STEPS, INPUT_SIZE),       # Or: input_dim=INPUT_SIZE, input_length=TIME_STEPS,\n",
    "    output_dim=CELL_SIZE,\n",
    "    unroll=True,\n",
    "))\n",
    "\n",
    "# output layer\n",
    "model.add(Dense(OUTPUT_SIZE))\n",
    "model.add(Activation('softmax'))\n",
    "\n",
    "# optimizer\n",
    "adam = Adam(LR)\n",
    "model.compile(optimizer=adam,\n",
    "              loss='categorical_crossentropy',\n",
    "              metrics=['accuracy'])\n",
    "\n",
    "# training\n",
    "for step in range(4001):\n",
    "    # data shape = (batch_num, steps, inputs/outputs)\n",
    "    X_batch = X_train[BATCH_INDEX: BATCH_INDEX+BATCH_SIZE, :, :]\n",
    "    Y_batch = y_train[BATCH_INDEX: BATCH_INDEX+BATCH_SIZE, :]\n",
    "    cost = model.train_on_batch(X_batch, Y_batch)\n",
    "    BATCH_INDEX += BATCH_SIZE\n",
    "    BATCH_INDEX = 0 if BATCH_INDEX >= X_train.shape[0] else BATCH_INDEX\n",
    "\n",
    "    if step % 500 == 0:\n",
    "        cost, accuracy = model.evaluate(X_test, y_test, batch_size=y_test.shape[0], verbose=False)\n",
    "        print('test cost: ', cost, 'test accuracy: ', accuracy)"
   ]
  },
  {
   "cell_type": "code",
   "execution_count": null,
   "metadata": {
    "collapsed": true
   },
   "outputs": [],
   "source": []
  },
  {
   "cell_type": "code",
   "execution_count": null,
   "metadata": {
    "collapsed": true
   },
   "outputs": [],
   "source": []
  }
 ],
 "metadata": {
  "kernelspec": {
   "display_name": "Python 2",
   "language": "python",
   "name": "python2"
  },
  "language_info": {
   "codemirror_mode": {
    "name": "ipython",
    "version": 2
   },
   "file_extension": ".py",
   "mimetype": "text/x-python",
   "name": "python",
   "nbconvert_exporter": "python",
   "pygments_lexer": "ipython2",
   "version": "2.7.13"
  }
 },
 "nbformat": 4,
 "nbformat_minor": 0
}
